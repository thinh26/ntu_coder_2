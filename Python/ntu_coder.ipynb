{
 "cells": [
  {
   "cell_type": "code",
   "execution_count": null,
   "metadata": {},
   "outputs": [],
   "source": [
    "import math\n",
    "_pow=(math.pow(999,99999999999))\n",
    "_pow =int(_pow)\n",
    "# _pow = str(_pow)\n",
    "# _pow = list(_pow)\n",
    "print(_pow)\n"
   ]
  },
  {
   "cell_type": "code",
   "execution_count": 4,
   "metadata": {},
   "outputs": [
    {
     "name": "stdout",
     "output_type": "stream",
     "text": [
      "8001\n"
     ]
    }
   ],
   "source": [
    "def luyThuaVongLap(x,n):\n",
    "    result = int(1)\n",
    "    for i in range(1,n+1):\n",
    "        result *= x\n",
    "    return result\n",
    "\n",
    "def _4SoCuoiVongLap(x,n):\n",
    "    temp = int(luyThuaVongLap(x,n))\n",
    "    print(temp % 10000)\n",
    "    \n",
    "    \n",
    "\n",
    "x,n = map(int, input().split())\n",
    "_4SoCuoiVongLap(x,n)"
   ]
  }
 ],
 "metadata": {
  "interpreter": {
   "hash": "26de051ba29f2982a8de78e945f0abaf191376122a1563185a90213a26c5da77"
  },
  "kernelspec": {
   "display_name": "Python 3.10.4 64-bit",
   "language": "python",
   "name": "python3"
  },
  "language_info": {
   "codemirror_mode": {
    "name": "ipython",
    "version": 3
   },
   "file_extension": ".py",
   "mimetype": "text/x-python",
   "name": "python",
   "nbconvert_exporter": "python",
   "pygments_lexer": "ipython3",
   "version": "3.10.4"
  },
  "orig_nbformat": 4
 },
 "nbformat": 4,
 "nbformat_minor": 2
}
